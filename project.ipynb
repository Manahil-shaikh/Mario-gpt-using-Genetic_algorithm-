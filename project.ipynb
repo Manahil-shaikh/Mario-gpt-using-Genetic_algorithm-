{
  "cells": [
    {
      "attachments": {},
      "cell_type": "markdown",
      "metadata": {
        "id": "vK5rpfFCFQxl"
      },
      "source": []
    },
    {
      "cell_type": "code",
      "execution_count": 47,
      "metadata": {
        "id": "lF4xRWD_aGla"
      },
      "outputs": [],
      "source": [
        "import torch\n",
        "import random\n",
        "import numpy as np\n",
        "import sys # to access the system\n",
        "import cv2\n",
        "from google.colab.patches import cv2_imshow\n",
        "# from mario_gpt.prompter import Prompter\n"
      ]
    },
    {
      "cell_type": "code",
      "execution_count": 48,
      "metadata": {
        "colab": {
          "base_uri": "https://localhost:8080/"
        },
        "id": "2ChKlIkF0xwB",
        "outputId": "6ab367e9-bd15-45e4-d34b-4412ae2be017"
      },
      "outputs": [
        {
          "name": "stdout",
          "output_type": "stream",
          "text": [
            "Looking in indexes: https://pypi.org/simple, https://us-python.pkg.dev/colab-wheels/public/simple/\n",
            "Requirement already satisfied: mario-gpt in /usr/local/lib/python3.10/dist-packages (0.1.3)\n",
            "Requirement already satisfied: torch in /usr/local/lib/python3.10/dist-packages (from mario-gpt) (2.0.0+cu118)\n",
            "Requirement already satisfied: transformers in /usr/local/lib/python3.10/dist-packages (from mario-gpt) (4.28.1)\n",
            "Requirement already satisfied: scipy in /usr/local/lib/python3.10/dist-packages (from mario-gpt) (1.10.1)\n",
            "Requirement already satisfied: pillow in /usr/local/lib/python3.10/dist-packages (from mario-gpt) (8.4.0)\n",
            "Requirement already satisfied: tqdm in /usr/local/lib/python3.10/dist-packages (from mario-gpt) (4.65.0)\n",
            "Requirement already satisfied: numpy<1.27.0,>=1.19.5 in /usr/local/lib/python3.10/dist-packages (from scipy->mario-gpt) (1.22.4)\n",
            "Requirement already satisfied: typing-extensions in /usr/local/lib/python3.10/dist-packages (from torch->mario-gpt) (4.5.0)\n",
            "Requirement already satisfied: triton==2.0.0 in /usr/local/lib/python3.10/dist-packages (from torch->mario-gpt) (2.0.0)\n",
            "Requirement already satisfied: jinja2 in /usr/local/lib/python3.10/dist-packages (from torch->mario-gpt) (3.1.2)\n",
            "Requirement already satisfied: filelock in /usr/local/lib/python3.10/dist-packages (from torch->mario-gpt) (3.12.0)\n",
            "Requirement already satisfied: networkx in /usr/local/lib/python3.10/dist-packages (from torch->mario-gpt) (3.1)\n",
            "Requirement already satisfied: sympy in /usr/local/lib/python3.10/dist-packages (from torch->mario-gpt) (1.11.1)\n",
            "Requirement already satisfied: cmake in /usr/local/lib/python3.10/dist-packages (from triton==2.0.0->torch->mario-gpt) (3.25.2)\n",
            "Requirement already satisfied: lit in /usr/local/lib/python3.10/dist-packages (from triton==2.0.0->torch->mario-gpt) (16.0.2)\n",
            "Requirement already satisfied: tokenizers!=0.11.3,<0.14,>=0.11.1 in /usr/local/lib/python3.10/dist-packages (from transformers->mario-gpt) (0.13.3)\n",
            "Requirement already satisfied: requests in /usr/local/lib/python3.10/dist-packages (from transformers->mario-gpt) (2.27.1)\n",
            "Requirement already satisfied: huggingface-hub<1.0,>=0.11.0 in /usr/local/lib/python3.10/dist-packages (from transformers->mario-gpt) (0.14.1)\n",
            "Requirement already satisfied: packaging>=20.0 in /usr/local/lib/python3.10/dist-packages (from transformers->mario-gpt) (23.1)\n",
            "Requirement already satisfied: pyyaml>=5.1 in /usr/local/lib/python3.10/dist-packages (from transformers->mario-gpt) (6.0)\n",
            "Requirement already satisfied: regex!=2019.12.17 in /usr/local/lib/python3.10/dist-packages (from transformers->mario-gpt) (2022.10.31)\n",
            "Requirement already satisfied: fsspec in /usr/local/lib/python3.10/dist-packages (from huggingface-hub<1.0,>=0.11.0->transformers->mario-gpt) (2023.4.0)\n",
            "Requirement already satisfied: MarkupSafe>=2.0 in /usr/local/lib/python3.10/dist-packages (from jinja2->torch->mario-gpt) (2.1.2)\n",
            "Requirement already satisfied: certifi>=2017.4.17 in /usr/local/lib/python3.10/dist-packages (from requests->transformers->mario-gpt) (2022.12.7)\n",
            "Requirement already satisfied: charset-normalizer~=2.0.0 in /usr/local/lib/python3.10/dist-packages (from requests->transformers->mario-gpt) (2.0.12)\n",
            "Requirement already satisfied: idna<4,>=2.5 in /usr/local/lib/python3.10/dist-packages (from requests->transformers->mario-gpt) (3.4)\n",
            "Requirement already satisfied: urllib3<1.27,>=1.21.1 in /usr/local/lib/python3.10/dist-packages (from requests->transformers->mario-gpt) (1.26.15)\n",
            "Requirement already satisfied: mpmath>=0.19 in /usr/local/lib/python3.10/dist-packages (from sympy->torch->mario-gpt) (1.3.0)\n"
          ]
        }
      ],
      "source": [
        "pip install mario-gpt"
      ]
    },
    {
      "attachments": {},
      "cell_type": "markdown",
      "metadata": {
        "id": "hQL-OrzNFOXu"
      },
      "source": [
        "# Genetic Algorithm"
      ]
    },
    {
      "cell_type": "code",
      "execution_count": 49,
      "metadata": {
        "id": "DUbSNG8sxBpK"
      },
      "outputs": [],
      "source": [
        "pipes=[\"no pipes\",\"little pipes\",\"some pipes\",\"many pipes\"]\n",
        "Enemies=['no enemies','little enemies',\"some enemies\",\"many enemies\"]\n",
        "Blocks=[\"little blocks\",\"some blocks\",\"many blocks\"]\n",
        "Elevation=[\"high elevation\",\"low elevation\"]\n",
        "initial=10000\n",
        "\n",
        "\n",
        #this function generates initial random population
        "def initial_population(Genes1,initial_pop):\n",
        "  #genes = [pipes,enemies , blocks , elevation,temp,steps]\n",
        "  Genes=[]\n",
        "  for i in range(0,initial_pop):\n",
        "    p=random.randint(0,3)\n",
        "    e=random.randint(0,3)\n",
        "    b=random.randint(0,2)\n",
        "    el=random.randint(0,1)\n",
        "    t=round(random.uniform(0, 10), 1)\n",
        "    s=random.randint(1,1400)\n",
        "\n",
        "    Genes.append(pipes[p])\n",
        "    Genes.append(Enemies[e])\n",
        "    Genes.append(Blocks[b])\n",
        "    Genes.append(Elevation[el])\n",
        "    Genes.append(str(t))\n",
        "    Genes.append(str(s))\n",
        "\n",
        "    Genes1.append(Genes)\n",
        "    Genes=[]\n",
        "  return Genes1\n",
        "\n",
        "\n",
        "\n",
        "\n",
        "    \n",
        "\n"
      ]
    },
    {
      "cell_type": "code",
      "execution_count": 50,
      "metadata": {
        "id": "yrgHIS4K3Lll"
      },
      "outputs": [],
      "source": [
        "scores=[]\n",
        "Selected_Population = []\n",
        "\n",
        "\n",
        "def fitness(Population,Score_list):\n",
        "  for i in range(len(Population)):\n",
        "    value=0\n",
        "    for j in range(0,5):\n",
        "      if(Population[i][j] == \"no pipes\" or Population[i][j]==\"no enemies\" or Population[i][j] == \"many pipes\" or Population[i][j]==\"many enemies\" or Population[i][j]==\"many blocks\"):\n",
        "        value += 0.2\n",
        "      elif(Population[i][j] == \"little pipes\" or Population[i][j]==\"little enemies\" or Population[i][j]==\"little blocks\"):\n",
        "        value += 2\n",
        "      elif(Population[i][j] == \"some pipes\" or Population[i][j]==\"some enemies\" or Population[i][j]==\"some blocks\"):\n",
        "        value += 6\n",
        "      elif(Population[i][j] == \"high elevation\"):\n",
        "        value+=0.5\n",
        "      elif(Population[i][j] == \"low elevation\"):\n",
        "        value+=2\n",
        "      elif(float(Population[i][4]) < 2 or float(Population[i][4]) > 5):\n",
        "        value += 0.00001\n",
        "      elif(float(Population[i][4]) >= 2 and float(Population[i][4]) <= 2.5):\n",
        "        value += 1.75\n",
        "      elif(int(Population[i][5]) >= 1000 and int(Population[i][5]) <= 1400):\n",
        "        value *= 2\n",
        "      elif(int(Population[i][5]) > 0 and int(Population[i][5]) < 100):\n",
        "        value *= 0.0001\n",
        "      elif(int(Population[i][5]) > 100 and int(Population[i][5]) < 500):\n",
        "        value *= 0.01\n",
        "      elif(int(Population[i][5]) > 500 and int(Population[i][5]) < 1000):\n",
        "        value *= 0.1\n",
        "\n",
        "    Score_list.append(value)\n",
        "\n",
        "  return Score_list\n",
        "\n",
        "def Selection(Population,Score_list,Selected):\n",
        "  Avg=np.mean(Score_list)\n",
        "  for i in range(len(Score_list)):\n",
        "    if(Score_list[i] > Avg):\n",
        "      Selected.append(Population[i])\n",
        "\n",
        "  # mini=min(Score_list)\n",
        "  # for i in range(len(Score_list)):\n",
        "  #   if(Score_list[i] > mini):\n",
        "  #     Selected.append(Population[i])\n",
        "  \n",
        "  return Selected \n"
      ]
    },
    {
      "attachments": {},
      "cell_type": "markdown",
      "metadata": {
        "id": "MFXNK_iKFNN4"
      },
      "source": []
    },
    {
      "cell_type": "code",
      "execution_count": 51,
      "metadata": {
        "id": "5VYK_qExoT4P"
      },
      "outputs": [],
      "source": [
        "def Cross_over(S,R):\n",
        "    #perform Crossover\n",
        "     point=random.randint(0,5)\n",
        "     Chromosome=random.randint(0,len(S)-1)\n",
        "     Chromosome2=random.randint(0,len(S)-1)\n",
        "     child1 = S[Chromosome2][:point] + S[Chromosome][point:]\n",
        "     child2 = S[Chromosome][:point] +  S[Chromosome2][point:]\n",
        "     R.append(child1)\n",
        "     R.append(child2)\n",
        "     #print(\"Crossover\")\n",
        "     return R\n",
        "\n",
        "\n",
        "def Mutation(S,R):\n",
        "   Mut=random.randint(0,len(S)-1)\n",
        "   Mut_gene=random.randint(0,5)\n",
        "   if(Mut_gene == 0):\n",
        "     p=random.randint(0,3)\n",
        "     Mutated=S[Mut][:]\n",
        "     Mutated[0] = pipes[p]\n",
        "        \n",
        "   if(Mut_gene == 1):\n",
        "     e=random.randint(0,3)\n",
        "     Mutated=S[Mut][:]\n",
        "     Mutated[1] = Enemies[e]\n",
        "\n",
        "   if(Mut_gene == 2):\n",
        "     b=random.randint(0,2)\n",
        "     Mutated=S[Mut][:]\n",
        "     Mutated[2] = Blocks[b]\n",
        "     \n",
        "   if(Mut_gene == 3):\n",
        "     el=random.randint(0,1)\n",
        "     Mutated=S[Mut][:]\n",
        "     Mutated[3] = Elevation[el]\n",
        "\n",
        "\n",
        "   if(Mut_gene == 4):\n",
        "     Mutated=S[Mut][:]\n",
        "     Mutated[4] = str(random.randint(1,10))\n",
        "\n",
        "\n",
        "   if(Mut_gene == 5):\n",
        "     Mutated=S[Mut][:]\n",
        "     Mutated[5] = str(random.randint(0,1400))\n",
        "     R.append(Mutated)\n",
        "\n",
        "   #print(\"Mutated\")\n",
        "   return R\n"
      ]
    },
    {
      "cell_type": "code",
      "execution_count": 52,
      "metadata": {
        "id": "X29s5NJjNPur"
      },
      "outputs": [],
      "source": [
        "def Repopulation(S,R):\n",
        "  R[:]=S[:]\n",
        "  for i in range(0,50):\n",
        "    #print(i)\n",
        "    if(len(R) == 50):\n",
        "      break;\n",
        "    else:\n",
        "      if(i%2 == 0 and len(R) <= initial-2):\n",
        "        Cross_over(S,R)\n",
        "      \n",
        "      elif(random.randint(0,1000) % 5 == 0 or len(R) >= initial-2 ):\n",
        "        #perform mutation\n",
        "        Mutation(S,R)\n",
        "        \n",
        "  return len(R)\n",
        "        \n",
        "\n",
        "\n",
        "\n",
        "\n",
        "        \n",
        "        \n",
        "\n",
        "\n"
      ]
    },
    {
      "cell_type": "code",
      "execution_count": 53,
      "metadata": {
        "colab": {
          "base_uri": "https://localhost:8080/"
        },
        "id": "ToEc3t5xq0J6",
        "outputId": "a6ff3431-71ee-4a56-b558-193783c44b68"
      },
      "outputs": [
        {
          "name": "stdout",
          "output_type": "stream",
          "text": [
            "Generation :  0\n",
            "Generation :  1\n",
            "Generation :  2\n",
            "Generation :  3\n",
            "Generation :  4\n",
            "Generation :  5\n"
          ]
        },
        {
          "data": {
            "text/plain": [
              "[['some pipes', 'some enemies', 'some blocks', 'low elevation', '3.6', '1266']]"
            ]
          },
          "execution_count": 53,
          "metadata": {},
          "output_type": "execute_result"
        }
      ],
      "source": [
        "Genes_list=[] #G_list\n",
        "scores=[]\n",
        "Selected_Population = []\n",
        "Rep = []\n",
        "prompt=[]\n",
        "initial=10000\n",
        "initial_population(Genes_list,initial)\n",
        "\n",
        "\n",
        "def Genetic_algo(Genes_list,scores,Selected_Population,Rep,prompt):\n",
        "  fitness(Genes_list,scores)\n",
        "  Selection(Genes_list,scores,Selected_Population)\n",
        "  Repopulation(Selected_Population,Rep)\n",
        "\n",
        "  for i in range(6):\n",
        "    print(\"Generation : \" , str(i))\n",
        "    scores=[]\n",
        "    Selected_Population = []\n",
        "    fitness(Rep,scores)\n",
        "\n",
        "    Selection(Rep,scores,Selected_Population)\n",
        "    if (i < 5):\n",
        "      Rep = []\n",
        "      Repopulation(Selected_Population,Rep)\n",
        "\n",
        "  max_index = scores.index(max(scores))\n",
        "  prompt.append(Selected_Population[max_index])\n",
        "\n",
        "  return prompt\n",
        "\n",
        "Genetic_algo(Genes_list,scores,Selected_Population,Rep,prompt)   \n",
        "  \n",
        "\n",
        "\n",
        "\n",
        "\n",
        "\n",
        "\n"
      ]
    },
    {
      "cell_type": "code",
      "execution_count": 53,
      "metadata": {
        "id": "JOe7aJ0T5K4Y"
      },
      "outputs": [],
      "source": []
    },
    {
      "cell_type": "code",
      "execution_count": 54,
      "metadata": {
        "colab": {
          "base_uri": "https://localhost:8080/"
        },
        "id": "m5xI6XGrb7XD",
        "outputId": "0c966e80-e095-4c48-d223-9f55c880283f"
      },
      "outputs": [
        {
          "name": "stdout",
          "output_type": "stream",
          "text": [
            "Using shyamsn97/Mario-GPT2-700-context-length model\n"
          ]
        },
        {
          "name": "stderr",
          "output_type": "stream",
          "text": [
            "/usr/local/lib/python3.10/dist-packages/transformers/models/auto/modeling_auto.py:1322: FutureWarning: The class `AutoModelWithLMHead` is deprecated and will be removed in a future version. Please use `AutoModelForCausalLM` for causal language models, `AutoModelForMaskedLM` for masked language models and `AutoModelForSeq2SeqLM` for encoder-decoder models.\n",
            "  warnings.warn(\n"
          ]
        },
        {
          "name": "stdout",
          "output_type": "stream",
          "text": [
            "Using shyamsn97/Mario-GPT2-700-context-length tokenizer\n"
          ]
        }
      ],
      "source": [
        "from mario_gpt import MarioLM, SampleOutput\n",
        "from mario_gpt.dataset import MarioDataset\n",
        "from mario_gpt.prompter import Prompter\n",
        "from mario_gpt.lm import MarioLM\n",
        "from mario_gpt.utils import view_level, convert_level_to_png\n",
        "\n",
        "# pretrained_model = shyamsn97/Mario-GPT2-700-context-length\n",
        "\n",
        "mario_lm = MarioLM()\n",
        "\n",
        "# use cuda to speed stuff up\n",
        "import torch\n",
        "device = torch.device('cuda')\n",
        "mario_lm = mario_lm.to(device)\n",
        "\n",
        "\n",
        "\n"
      ]
    },
    {
      "cell_type": "code",
      "execution_count": 55,
      "metadata": {
        "colab": {
          "base_uri": "https://localhost:8080/"
        },
        "id": "mwPEKBd2c77b",
        "outputId": "30db1b00-8145-4a33-c7df-a497345c0b2f"
      },
      "outputs": [
        {
          "name": "stderr",
          "output_type": "stream",
          "text": [
            "shape: torch.Size([1, 678]), torch.Size([1, 1267]) first: 56, last: 13: 100%|██████████| 1266/1266 [00:47<00:00, 26.85it/s]\n",
            "/usr/local/lib/python3.10/dist-packages/PIL/Image.py:975: UserWarning: Palette images with Transparency expressed in bytes should be converted to RGBA images\n",
            "  warnings.warn(\n"
          ]
        }
      ],
      "source": [
        "\n",
        "# generate level of size 1400, pump temperature up to ~2.4 for more stochastic but playable levels\n",
        "prompts=prompt[0][:4]\n",
        "prompts = \", \".join(prompts)\n",
        "prompt_list=[]\n",
        "prompt_list.append(prompts)\n",
        "num_steps = int(prompt[0][5])\n",
        "tempreture = 2.0\n",
        "generated_level = mario_lm.sample(\n",
        "    prompts=prompt_list,\n",
        "    num_steps=num_steps,\n",
        "    temperature=tempreture ,\n",
        "    use_tqdm=True\n",
        ")\n",
        "\n",
        "# show string list\n",
        "generated_level.level\n",
        "\n",
        "# show PIL image\n",
        "generated_level.img\n",
        "\n",
        "# save image\n",
        "generated_level.img.save(\"generated_level.png\")\n",
        "\n",
        "# save text level to file\n",
        "generated_level.save(\"generated_level.txt\")\n"
      ]
    },
    {
      "cell_type": "code",
      "execution_count": 56,
      "metadata": {
        "colab": {
          "base_uri": "https://localhost:8080/"
        },
        "id": "ukGI3JvId8TB",
        "outputId": "5373a102-9db0-4404-9a03-09e22c0de537"
      },
      "outputs": [
        {
          "name": "stdout",
          "output_type": "stream",
          "text": [
            "Playing level interactively -- /tmp/tmp52apjb93.txt!\n",
            "Running Astar agent on level! -- /tmp/tmp9egrjuep.txt\n"
          ]
        },
        {
          "name": "stderr",
          "output_type": "stream",
          "text": [
            "shape: torch.Size([1, 678]), torch.Size([1, 1267]) first: 56, last: 13: 100%|██████████| 1266/1266 [00:44<00:00, 28.19it/s]\n",
            "/usr/local/lib/python3.10/dist-packages/PIL/Image.py:975: UserWarning: Palette images with Transparency expressed in bytes should be converted to RGBA images\n",
            "  warnings.warn(\n"
          ]
        },
        {
          "name": "stdout",
          "output_type": "stream",
          "text": [
            "Playing level interactively -- /tmp/tmpktlf_uhw.txt!\n"
          ]
        }
      ],
      "source": [
        "# play in interactive\n",
        "generated_level.play()\n",
        "\n",
        "# run Astar agent\n",
        "generated_level.run_astar()\n",
        "\n",
        "# Continue generation\n",
        "generated_level = mario_lm.sample(\n",
        "    prompts=prompt_list,\n",
        "    num_steps=num_steps,\n",
        "    temperature=tempreture ,\n",
        "    use_tqdm=True\n",
        ")\n",
        "\n",
        "# load from text file\n",
        "loaded_level = SampleOutput.load(\"generated_level.txt\")\n",
        "\n",
        "# play from loaded (should be the same level that we generated)\n",
        "loaded_level.play()"
      ]
    },
    {
      "cell_type": "code",
      "execution_count": 57,
      "metadata": {
        "id": "iOqgcCQUb_fW"
      },
      "outputs": [],
      "source": [
        "#to play , go to https://huggingface.co/spaces/multimodalart/mariogpt set ur prompts and play"
      ]
    },
    {
      "cell_type": "code",
      "execution_count": 58,
      "metadata": {
        "colab": {
          "base_uri": "https://localhost:8080/",
          "height": 190
        },
        "id": "W6LDtgyzv5EX",
        "outputId": "75989e62-d926-4a17-eb3a-9ccb293612a6"
      },
      "outputs": [
        {
          "data": {
            "image/png": "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",
            "text/plain": [
              "<PIL.Image.Image image mode=RGB size=1440x224 at 0x7F87D4E95240>"
            ]
          },
          "metadata": {},
          "output_type": "display_data"
        }
      ],
      "source": [
        "\n",
        "\n",
        "img = cv2.imread(\"/content/generated_level.png\", cv2.IMREAD_ANYCOLOR)\n",
        "cv2_imshow(img)"
      ]
    },
    {
      "cell_type": "code",
      "execution_count": 59,
      "metadata": {
        "id": "ineqYFYRUODV"
      },
      "outputs": [],
      "source": [
        "# img = convert_level_to_png(generated_level.squeeze(), TILE_DIR, mario_lm.tokenizer)[0]"
      ]
    }
  ],
  "metadata": {
    "accelerator": "GPU",
    "colab": {
      "provenance": []
    },
    "gpuClass": "standard",
    "kernelspec": {
      "display_name": "Python 3",
      "name": "python3"
    },
    "language_info": {
      "name": "python"
    }
  },
  "nbformat": 4,
  "nbformat_minor": 0
}
